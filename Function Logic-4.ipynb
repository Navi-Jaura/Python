{
 "cells": [
  {
   "cell_type": "markdown",
   "id": "89b411c0",
   "metadata": {},
   "source": [
    "# Function with return type with parameters"
   ]
  },
  {
   "cell_type": "code",
   "execution_count": 6,
   "id": "7dd4efb2",
   "metadata": {},
   "outputs": [
    {
     "name": "stdout",
     "output_type": "stream",
     "text": [
      "Enter First Number: 5\n",
      "Enter Second Number: 3\n",
      "Total: 8\n"
     ]
    }
   ],
   "source": [
    "def sum(num1,num2):\n",
    "    total = num1 + num2\n",
    "    return total\n",
    " \n",
    " \n",
    "a = int(input(\"Enter First Number: \"))\n",
    "b = int(input(\"Enter Second Number: \"))\n",
    " \n",
    " \n",
    "result = sum(a,b)\n",
    "print('Total:',result)"
   ]
  },
  {
   "cell_type": "code",
   "execution_count": null,
   "id": "25cd84a7",
   "metadata": {},
   "outputs": [],
   "source": []
  }
 ],
 "metadata": {
  "kernelspec": {
   "display_name": "Python 3 (ipykernel)",
   "language": "python",
   "name": "python3"
  },
  "language_info": {
   "codemirror_mode": {
    "name": "ipython",
    "version": 3
   },
   "file_extension": ".py",
   "mimetype": "text/x-python",
   "name": "python",
   "nbconvert_exporter": "python",
   "pygments_lexer": "ipython3",
   "version": "3.10.11"
  }
 },
 "nbformat": 4,
 "nbformat_minor": 5
}
