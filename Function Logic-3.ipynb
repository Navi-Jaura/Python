{
 "cells": [
  {
   "cell_type": "markdown",
   "id": "a5d9509e",
   "metadata": {},
   "source": [
    "# Function with return type without parameters"
   ]
  },
  {
   "cell_type": "code",
   "execution_count": 5,
   "id": "2cbf4308",
   "metadata": {},
   "outputs": [
    {
     "name": "stdout",
     "output_type": "stream",
     "text": [
      "Enter First Number: 5\n",
      "Enter Second Number: 2\n",
      "Total: 7\n"
     ]
    }
   ],
   "source": [
    "def sum():\n",
    "    num1 = int(input(\"Enter First Number: \"))\n",
    "    num2 = int(input(\"Enter Second Number: \"))\n",
    "    total = num1 + num2\n",
    "    return total\n",
    " \n",
    " \n",
    " \n",
    "result = sum()\n",
    "print(\"Total:\",result)"
   ]
  },
  {
   "cell_type": "code",
   "execution_count": null,
   "id": "1836421e",
   "metadata": {},
   "outputs": [],
   "source": []
  }
 ],
 "metadata": {
  "kernelspec": {
   "display_name": "Python 3 (ipykernel)",
   "language": "python",
   "name": "python3"
  },
  "language_info": {
   "codemirror_mode": {
    "name": "ipython",
    "version": 3
   },
   "file_extension": ".py",
   "mimetype": "text/x-python",
   "name": "python",
   "nbconvert_exporter": "python",
   "pygments_lexer": "ipython3",
   "version": "3.10.11"
  }
 },
 "nbformat": 4,
 "nbformat_minor": 5
}
