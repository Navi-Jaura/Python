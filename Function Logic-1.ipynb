{
 "cells": [
  {
   "cell_type": "markdown",
   "id": "abe4c5c4",
   "metadata": {},
   "source": [
    "# Function without return type without parameters"
   ]
  },
  {
   "cell_type": "code",
   "execution_count": 1,
   "id": "57fd44e7",
   "metadata": {},
   "outputs": [],
   "source": [
    "def sum():\n",
    "    num1=int(input(\"Enter 1 Number: \"))\n",
    "    num2=int(input(\"Enter 2 Number: \"))\n",
    "    total=(num1+num2)\n",
    "    print(total)"
   ]
  },
  {
   "cell_type": "code",
   "execution_count": 2,
   "id": "4846196d",
   "metadata": {},
   "outputs": [
    {
     "name": "stdout",
     "output_type": "stream",
     "text": [
      "Enter 1 Number: 5\n",
      "Enter 2 Number: 4\n",
      "9\n"
     ]
    }
   ],
   "source": [
    "sum()"
   ]
  },
  {
   "cell_type": "code",
   "execution_count": null,
   "id": "0448a032",
   "metadata": {},
   "outputs": [],
   "source": []
  }
 ],
 "metadata": {
  "kernelspec": {
   "display_name": "Python 3 (ipykernel)",
   "language": "python",
   "name": "python3"
  },
  "language_info": {
   "codemirror_mode": {
    "name": "ipython",
    "version": 3
   },
   "file_extension": ".py",
   "mimetype": "text/x-python",
   "name": "python",
   "nbconvert_exporter": "python",
   "pygments_lexer": "ipython3",
   "version": "3.10.11"
  }
 },
 "nbformat": 4,
 "nbformat_minor": 5
}
