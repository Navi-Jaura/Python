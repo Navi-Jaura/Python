{
 "cells": [
  {
   "cell_type": "markdown",
   "id": "3ef40b25",
   "metadata": {},
   "source": [
    "# Function Default Parameter Value"
   ]
  },
  {
   "cell_type": "code",
   "execution_count": 8,
   "id": "2d2d0076",
   "metadata": {},
   "outputs": [
    {
     "name": "stdout",
     "output_type": "stream",
     "text": [
      "Multiply Result 1: 2\n",
      "Multiply Result 2: 6\n"
     ]
    }
   ],
   "source": [
    "def multiply(a, b=1):\n",
    "    return a * b\n",
    " \n",
    " \n",
    "t = multiply(2)\n",
    "print('Multiply Result 1:', t)\n",
    " \n",
    "t = multiply(2,3)\n",
    "print('Multiply Result 2:', t)"
   ]
  },
  {
   "cell_type": "code",
   "execution_count": null,
   "id": "31062c85",
   "metadata": {},
   "outputs": [],
   "source": []
  }
 ],
 "metadata": {
  "kernelspec": {
   "display_name": "Python 3 (ipykernel)",
   "language": "python",
   "name": "python3"
  },
  "language_info": {
   "codemirror_mode": {
    "name": "ipython",
    "version": 3
   },
   "file_extension": ".py",
   "mimetype": "text/x-python",
   "name": "python",
   "nbconvert_exporter": "python",
   "pygments_lexer": "ipython3",
   "version": "3.10.11"
  }
 },
 "nbformat": 4,
 "nbformat_minor": 5
}
