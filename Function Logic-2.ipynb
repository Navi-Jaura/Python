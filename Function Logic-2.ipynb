{
 "cells": [
  {
   "cell_type": "markdown",
   "id": "3109e395",
   "metadata": {},
   "source": [
    "# Function without return type with parameters"
   ]
  },
  {
   "cell_type": "code",
   "execution_count": 4,
   "id": "dcd40216",
   "metadata": {},
   "outputs": [
    {
     "name": "stdout",
     "output_type": "stream",
     "text": [
      "Enter 1 Number: 5\n",
      "Enter 2 Number: 3\n",
      "Total:  8\n"
     ]
    }
   ],
   "source": [
    "def sum(num1,num2):\n",
    "    total=num1+num2\n",
    "    print(\"Total: \",total)\n",
    "a=int(input(\"Enter 1 Number: \"))\n",
    "b=int(input(\"Enter 2 Number: \"))\n",
    "\n",
    "sum(a,b)"
   ]
  },
  {
   "cell_type": "code",
   "execution_count": null,
   "id": "ead7e833",
   "metadata": {},
   "outputs": [],
   "source": []
  }
 ],
 "metadata": {
  "kernelspec": {
   "display_name": "Python 3 (ipykernel)",
   "language": "python",
   "name": "python3"
  },
  "language_info": {
   "codemirror_mode": {
    "name": "ipython",
    "version": 3
   },
   "file_extension": ".py",
   "mimetype": "text/x-python",
   "name": "python",
   "nbconvert_exporter": "python",
   "pygments_lexer": "ipython3",
   "version": "3.10.11"
  }
 },
 "nbformat": 4,
 "nbformat_minor": 5
}
